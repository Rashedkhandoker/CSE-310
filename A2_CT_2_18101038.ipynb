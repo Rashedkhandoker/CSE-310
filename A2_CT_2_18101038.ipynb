{
  "nbformat": 4,
  "nbformat_minor": 0,
  "metadata": {
    "colab": {
      "name": "A2_CT_2_18101038.ipynb",
      "provenance": [],
      "collapsed_sections": [],
      "authorship_tag": "ABX9TyN7ikdgveUUmb+JYhO5g8qg",
      "include_colab_link": true
    },
    "kernelspec": {
      "name": "python3",
      "display_name": "Python 3"
    }
  },
  "cells": [
    {
      "cell_type": "markdown",
      "metadata": {
        "id": "view-in-github",
        "colab_type": "text"
      },
      "source": [
        "<a href=\"https://colab.research.google.com/github/Rashedkhandoker/CSE-310/blob/master/A2_CT_2_18101038.ipynb\" target=\"_parent\"><img src=\"https://colab.research.google.com/assets/colab-badge.svg\" alt=\"Open In Colab\"/></a>"
      ]
    },
    {
      "cell_type": "code",
      "metadata": {
        "id": "6jPbyBlWcnPA",
        "colab_type": "code",
        "colab": {}
      },
      "source": [
        ""
      ],
      "execution_count": null,
      "outputs": []
    },
    {
      "cell_type": "markdown",
      "metadata": {
        "id": "4EBgOOXXfRfz",
        "colab_type": "text"
      },
      "source": [
        "# **Que_1**"
      ]
    },
    {
      "cell_type": "code",
      "metadata": {
        "id": "Xw3mvlyEfVVM",
        "colab_type": "code",
        "colab": {
          "base_uri": "https://localhost:8080/",
          "height": 54
        },
        "outputId": "9cb33131-226c-406f-af08-8424364dc634"
      },
      "source": [
        "a:int(input())\n",
        "if a%2== 0 :\n",
        "  print('even')\n",
        "else :\n",
        "  print('odd')\n"
      ],
      "execution_count": null,
      "outputs": [
        {
          "output_type": "stream",
          "text": [
            "5\n",
            "odd\n"
          ],
          "name": "stdout"
        }
      ]
    },
    {
      "cell_type": "markdown",
      "metadata": {
        "id": "7YNMfqGGgPPO",
        "colab_type": "text"
      },
      "source": [
        "## **Que_2**"
      ]
    },
    {
      "cell_type": "code",
      "metadata": {
        "id": "YC8hdtjpgT7R",
        "colab_type": "code",
        "colab": {
          "base_uri": "https://localhost:8080/",
          "height": 54
        },
        "outputId": "eb32edba-7244-494b-8ebf-63fcade96a90"
      },
      "source": [
        "N=int(input())\n",
        "if N>100 :\n",
        "  print('invalid')\n",
        "elif N<101 and N>79 :\n",
        "  print (\"A+\")\n",
        "elif N<80 and N>69 :\n",
        "  print (\"A\")\n",
        "elif N<70 and N>59 :\n",
        "  print (\"A-\")\n",
        "elif N<60 and N>49:\n",
        "  print (\"B\")\n",
        "elif N<50 and N>39:\n",
        "  print (\"C\")\n",
        "elif N<40 and N>32:\n",
        "  print (\"D\")\n",
        "else :\n",
        "  print(\"F\")"
      ],
      "execution_count": null,
      "outputs": [
        {
          "output_type": "stream",
          "text": [
            "82\n",
            "A+\n"
          ],
          "name": "stdout"
        }
      ]
    },
    {
      "cell_type": "markdown",
      "metadata": {
        "id": "ZjIAtsbYkbs-",
        "colab_type": "text"
      },
      "source": [
        "# **Que_4**"
      ]
    },
    {
      "cell_type": "code",
      "metadata": {
        "id": "7aOv_F-GkeLP",
        "colab_type": "code",
        "colab": {
          "base_uri": "https://localhost:8080/",
          "height": 109
        },
        "outputId": "2745b67a-d58b-4480-854f-caf25f299788"
      },
      "source": [
        "student_table={\n",
        "      1 : {\n",
        "        'Id':1,\n",
        "        'First name':'peter',\n",
        "        'Last name':'Lee',\n",
        "        'Email':'plee@university.edu',\n",
        "        'Year of Birth':1992,\n",
        "        \n",
        "      },\n",
        "      2 :{\n",
        "        'Id':2,\n",
        "        'First name':'Jonathan',\n",
        "        'Last name':'Edwards',\n",
        "        'Email':'jedwards@university.edu',\n",
        "        'Year of Birth':1994,\n",
        "        \n",
        "      },\n",
        "      3 :{\n",
        "        'Id':3,\n",
        "        'First name':'Marilyn',\n",
        "        'Last name':'Johnson',\n",
        "        'Email':'mjohnson@university.edu',\n",
        "        'Year of Birth':1993,\n",
        "        \n",
        "      },\n",
        "      6 :{\n",
        "        'Id':6,\n",
        "        'First name':'Joe',\n",
        "        'Last name':'Kim',\n",
        "        'Email':'jkim@university.edu',\n",
        "        'Year of Birth':1992,\n",
        "        \n",
        "      },\n",
        "      12 :{\n",
        "        'Id':12,\n",
        "        'First name':'Haley',\n",
        "        'Last name':'Martinez',\n",
        "        'Email':'hmartinez@university.edu',\n",
        "        'Year of Birth':1993,\n",
        "        \n",
        "      },\n",
        "\n",
        "}\n",
        "student_table[12]"
      ],
      "execution_count": null,
      "outputs": [
        {
          "output_type": "execute_result",
          "data": {
            "text/plain": [
              "{'Email': 'hmartinez@university.edu',\n",
              " 'First name': 'Haley',\n",
              " 'Id': 12,\n",
              " 'Last name': 'Martinez',\n",
              " 'Year of Birth': 1993}"
            ]
          },
          "metadata": {
            "tags": []
          },
          "execution_count": 26
        }
      ]
    }
  ]
}